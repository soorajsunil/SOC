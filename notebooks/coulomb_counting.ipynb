{
 "cells": [
  {
   "cell_type": "markdown",
   "metadata": {},
   "source": [
    "### State of Charge: \n",
    "\n",
    "Think about the state of charge (SOC) of a cell as a ratio of total electric charge flowed (discharged or charged) between arbitrary time intervals to the maximum charge that can be drained from that cell. That is, \n",
    " $$ \n",
    " \\text{SOC} = \\frac{ \\text{integeration of electric charge flowed between time instances} }{ \\text{electric charge capacity} } \n",
    " $$\n",
    "\n",
    "To keep track of flowed charges $Q$, we require the total capacity $Q_c$ that amounts to the total stored charge. In the case of batteries, it is the cell's capacity that can be calculated across a fully discharged state and charged state. Using this notation, the SOC can be expressed as \n",
    " $$\n",
    " \\text{SOC} = \\frac{\\int Q}{Q_c} \n",
    "$$\n",
    "\n",
    "To calculate SOC at a given time instance, we introduce the continuous time variable $t$. Then, the SOC at time $t$ can be calculated as \n",
    " $$ \n",
    " \\text{SOC}(t) = \\text{SOC}(0) + \\frac{\\int_{0}^{t} Q(t)dt}{Q_c}\n",
    " $$\n",
    "The above equation is known as the coulomb counting method which uses current integration for SOC estimation where $\\text{SOC}(0)$ is the initial SOC when the counter starts (prior information). \n",
    "\n",
    "In practice, we measure electric charge in terms of electric current in Amperes (symbol: Amp or A) whereas the unit of $Q$ is Coulombs (symbol: C). Hence, we write the continuous-time soc equation in terms of current $I$ as\n",
    "$$ \n",
    "\\text{SOC}(t) = \\text{SOC}(0) + \\frac{\\int_{0}^{t} I(t)dt}{C}\n",
    "$$\n",
    "where C is the cell capacity in Amp-hours.\n",
    "\n"
   ]
  },
  {
   "cell_type": "markdown",
   "metadata": {},
   "source": [
    "#### Updating Coulomb Counting Equation at every current sampling interval: \n",
    "\n",
    "In discrete time, we have \n",
    "$$\n",
    " \\text{SOC}(k+1) = \\text{SOC}(k) + \\frac{\\int_{t(k)}^{t(k+1)} I(\\tau)d \\tau}{C} \n",
    "$$\n",
    "\n",
    "\n",
    "For smaller values of the current sampling period $\\Delta$, the rectangular approximation can do the job: \n",
    "$$\n",
    "\\int_{\\tau}^{\\tau + \\Delta}I(\\tau)d\\tau \\approx I(k)\\Delta\n",
    "$$\n",
    "Then, soc can be calculated as\n",
    "$$\n",
    "\\text{SOC}(k+1) = \\text{SOC}(k) + \\frac{ I(k)\\Delta}{C} \n",
    "$$\n",
    "The above equation will work well for smaller sampling periods. Both accuracy and efficiency of the above soc equation heavily rely on the current sampling time $\\Delta$ and the current approximation gets better as $\\Delta\\rightarrow 0$. However, we cannot practically use EKF at a much higher rate. \n",
    "\n"
   ]
  },
  {
   "cell_type": "markdown",
   "metadata": {},
   "source": [
    "#### Updating Coulomb Counting Equation at a different update rate: \n",
    "\n",
    "Lets introduce the update period $\\delta$ at which the SOC is updated (Usually, $\\delta > \\Delta$) into the coulomb counting approximation . \n",
    "\n",
    "The rate of change in current over the update period can be captured as \n",
    "$$\n",
    "I[n] \\approx \\Delta\\sum^{k = (n+1)\\delta}_{k = n\\delta}I(k) \\quad \\text{where } n = 0, 1, 2, \\ldots, N\n",
    "$$\n",
    "\n",
    "\n",
    "Now, the EKF can be updated  $\\frac{1}{\\delta}$ rate as \n",
    "$$\n",
    "\\text{SOC}[n+1] = \\text{SOC}[n] + \\frac{ I[n]\\Delta}{C} \n",
    "$$\n",
    "Basically, obtained an equation which doesn't require an EKF update at every current sampling period \\Delta. "
   ]
  },
  {
   "cell_type": "markdown",
   "metadata": {},
   "source": [
    "#### Modeling current noise: \n",
    "\n",
    "In practice, we have only current measurements, not the actual current signal. In this section, we will model the measurement error into the SOC equation. \n",
    "$$\n",
    "I_z(k) = I(k) + n_i(k)\n",
    "$$\n",
    "where $n_i$ is zero mean additive gaussian noise with standard deviation $\\sigma_i$. \n",
    "\n",
    "$$\n",
    "I[n] = \\Delta\\sum^{(n+1)\\delta}_{n\\delta} [I_z(k) - n(k)]\n",
    "$$\n",
    "$$\n",
    "\\text{SOC}[n+1] = \\text{SOC}[n] + \\frac{ \\Delta\\sum^{(n+1)\\delta}_{n\\delta} [I_z(k) - n_i(k)]}{C} \\\\\n",
    "\\text{SOC}[n+1] = \\text{SOC}[n] + \\frac{ \\Delta\\sum^{(n+1)\\delta}_{n\\delta} I_z(k)}{C} - \\frac{ \\Delta\\sum^{(n+1)\\delta}_{n\\delta} n_i(k)}{C}\n",
    "$$\n",
    "The current measurement noise statistics are: \n",
    "$$\n",
    "\\sigma_s = \\frac{ \\Delta\\sum^{(n+1)\\delta}_{n\\delta} \\sigma_i}{C} \\\\ \n",
    "\\\\\n",
    "\\\\\n",
    "Q = \\frac{ \\Delta^2 \\delta^2 \\sigma_i^2}{C^2}\n",
    "$$\n",
    "So the final state equation for SOC is, \n",
    "$$\n",
    "\\text{SOC}[n+1] = \\text{SOC}[n] + \\frac{ \\Delta\\sum^{(n+1)\\delta}_{n\\delta} [I_z(k)]}{C} + v(k) \\\\\n",
    "$$\n",
    "with standard deviation,\n",
    "$$\n",
    "\\sigma_v = \\Delta \\frac{ \\delta \\sigma_i}{C} \\\\ \n",
    "$$\n",
    "\n",
    "and variance\n",
    "$$\n",
    "Q = \\frac{ \\Delta^2 \\delta^2 \\sigma_i^2}{C^2}\n",
    "$$\n"
   ]
  }
 ],
 "metadata": {
  "kernelspec": {
   "display_name": "Python 3.9.4 64-bit",
   "language": "python",
   "name": "python3"
  },
  "language_info": {
   "codemirror_mode": {
    "name": "ipython",
    "version": 3
   },
   "file_extension": ".py",
   "mimetype": "text/x-python",
   "name": "python",
   "nbconvert_exporter": "python",
   "pygments_lexer": "ipython3",
   "version": "3.9.4"
  },
  "orig_nbformat": 4,
  "vscode": {
   "interpreter": {
    "hash": "aee8b7b246df8f9039afb4144a1f6fd8d2ca17a180786b69acc140d282b71a49"
   }
  }
 },
 "nbformat": 4,
 "nbformat_minor": 2
}
